{
  "nbformat": 4,
  "nbformat_minor": 0,
  "metadata": {
    "colab": {
      "name": "01-exploratory-data-analysis.ipynb",
      "provenance": [],
      "toc_visible": true,
      "authorship_tag": "ABX9TyPBVtlWzUNXkSxJ/i0Qml8k",
      "include_colab_link": true
    },
    "kernelspec": {
      "name": "python3",
      "display_name": "Python 3"
    },
    "language_info": {
      "name": "python"
    }
  },
  "cells": [
    {
      "cell_type": "markdown",
      "metadata": {
        "id": "view-in-github",
        "colab_type": "text"
      },
      "source": [
        "<a href=\"https://colab.research.google.com/github/rahiakela/kaggle-competition-projects/blob/master/google-ai4code/01_exploratory_data_analysis.ipynb\" target=\"_parent\"><img src=\"https://colab.research.google.com/assets/colab-badge.svg\" alt=\"Open In Colab\"/></a>"
      ]
    },
    {
      "cell_type": "markdown",
      "source": [
        "##Google AI4Code: Exploratory Data Analysis\n",
        "\n"
      ],
      "metadata": {
        "id": "fxjJ9XCzkCA5"
      }
    },
    {
      "cell_type": "markdown",
      "source": [
        "**Exploratory data analysis is the work of a detective. Understanding the possibilities of your data is the first step in laying the groundwork for future modeling. With this notebook, we try to make sense of our data and demonstrate how data can be analyzed. We'll look for trends, limitations, and other characteristics linked to the questions we're interested in as part of our investigation.**\n",
        "\n",
        "Reference:\n",
        "\n",
        "https://www.kaggle.com/code/andreaspalmgren/ai4code-comprehensive-eda"
      ],
      "metadata": {
        "id": "3Y41yF4xnk6k"
      }
    },
    {
      "cell_type": "markdown",
      "source": [
        "##Setup"
      ],
      "metadata": {
        "id": "okE9A7denwVQ"
      }
    },
    {
      "cell_type": "code",
      "source": [
        "import numpy as np\n",
        "import pandas as pd\n",
        "import matplotlib.pyplot as plt\n",
        "import matplotlib.patches as patches\n",
        "import seaborn as sns\n",
        "from tqdm import tqdm\n",
        "from pathlib import Path\n",
        "import re\n",
        "import os\n",
        "\n",
        "pd.options.display.width = 180\n",
        "pd.options.display.max_colwidth = 100\n",
        "\n",
        "rc = {\"axes.spines.left\" : True,\n",
        "      \"axes.spines.right\" : False,\n",
        "      \"axes.spines.bottom\" : True,\n",
        "      \"axes.spines.top\" : False,\n",
        "      \"xtick.bottom\" : True,\n",
        "      \"xtick.labelbottom\" : True,\n",
        "      \"ytick.labelleft\" : True,\n",
        "      \"ytick.left\" : True,\n",
        "      \"figure.subplot.hspace\" : 0.7,\n",
        "    \"figure.titleweight\" : \"bold\",\n",
        "    \"axes.titleweight\" : \"bold\",\n",
        "     \"font.weight\" : \"bold\"}\n",
        "plt.rcParams.update(rc)"
      ],
      "metadata": {
        "id": "JsIsiP9Nnz0j"
      },
      "execution_count": 1,
      "outputs": []
    },
    {
      "cell_type": "code",
      "source": [
        "from google.colab import drive\n",
        "drive.mount('/content/gdrive')"
      ],
      "metadata": {
        "colab": {
          "base_uri": "https://localhost:8080/"
        },
        "id": "x66e8lWQkPlF",
        "outputId": "b645edf8-84b9-4dd3-e116-7d58eca19693"
      },
      "execution_count": 2,
      "outputs": [
        {
          "output_type": "stream",
          "name": "stdout",
          "text": [
            "Mounted at /content/gdrive\n"
          ]
        }
      ]
    },
    {
      "cell_type": "code",
      "source": [
        "import os\n",
        "# content/gdrive/My Drive/Kaggle is the path where kaggle.json is  present in the Google Drive\n",
        "os.environ['KAGGLE_CONFIG_DIR'] = \"/content/gdrive/MyDrive/kaggle-keys\""
      ],
      "metadata": {
        "id": "iHwuEGvgkT5U"
      },
      "execution_count": 3,
      "outputs": []
    },
    {
      "cell_type": "code",
      "source": [
        "%%shell\n",
        "\n",
        "# download dataset from kaggle> URL: https://www.kaggle.com/competitions/AI4Code\n",
        "kaggle competitions download -c AI4Code\n",
        "\n",
        "unzip -qq AI4Code.zip\n",
        "rm -rf AI4Code.zip"
      ],
      "metadata": {
        "colab": {
          "base_uri": "https://localhost:8080/"
        },
        "id": "HaL8UZePkaBM",
        "outputId": "83279a93-a49e-4c05-f693-a587a4e06cce"
      },
      "execution_count": 4,
      "outputs": [
        {
          "output_type": "stream",
          "name": "stdout",
          "text": [
            "Downloading AI4Code.zip to /content\n",
            " 98% 696M/714M [00:05<00:00, 134MB/s]\n",
            "100% 714M/714M [00:05<00:00, 135MB/s]\n"
          ]
        },
        {
          "output_type": "execute_result",
          "data": {
            "text/plain": [
              ""
            ]
          },
          "metadata": {},
          "execution_count": 4
        }
      ]
    },
    {
      "cell_type": "code",
      "source": [
        "%%shell\n",
        "\n",
        "mkdir AI4Code\n",
        "mv train AI4Code\n",
        "mv test AI4Code\n",
        "mv train_orders.csv AI4Code\n",
        "mv train_ancestors.csv AI4Code"
      ],
      "metadata": {
        "id": "87_b-f4JGsxc",
        "outputId": "5b7b7490-9775-41d2-efe8-60d7415c0cb1",
        "colab": {
          "base_uri": "https://localhost:8080/"
        }
      },
      "execution_count": 11,
      "outputs": [
        {
          "output_type": "execute_result",
          "data": {
            "text/plain": [
              ""
            ]
          },
          "metadata": {},
          "execution_count": 11
        }
      ]
    },
    {
      "cell_type": "markdown",
      "source": [
        "##Data Source"
      ],
      "metadata": {
        "id": "s8723NZeoLgS"
      }
    },
    {
      "cell_type": "markdown",
      "source": [
        "**Google and X, the moonshot factory, have supplied the dataset, which contains about 160 000 Jupyter notebooks. This is part of a <a href=\"https://www.kaggle.com/competitions/AI4Code\">Kaggle competition</a> to train a model that can rank markdown cells depending on the order of its code cells. \n",
        "\n",
        "Code cells are written in python and markdown cells are written in markdown, which is the text formatting langague used in Jupyter.**"
      ],
      "metadata": {
        "id": "TdhODbP7oT55"
      }
    },
    {
      "cell_type": "code",
      "source": [
        "def read_notebook(path):\n",
        "  return (\n",
        "      pd.read_json(path, dtype={\"cell_type\": \"category\", \"source\": \"str\"})\n",
        "        .assign(id=path.stem)\n",
        "        .rename_axis(\"cell_id\")\n",
        "  )"
      ],
      "metadata": {
        "id": "-NKze0qHoUYK"
      },
      "execution_count": 5,
      "outputs": []
    },
    {
      "cell_type": "code",
      "source": [
        "data_dir = Path(\"./AI4Code\")\n",
        "# Subset of training due to its large size\n",
        "NUM_TRAIN = 20000\n",
        "\n",
        "paths_train = list((data_dir / \"train\").glob(\"*.json\"))[:NUM_TRAIN]\n",
        "\n",
        "notebooks_train = [read_notebook(path) for path in tqdm(paths_train, desc=\"Train NBs\")]\n",
        "# Get notebooks\n",
        "df_notebooks = (\n",
        "    pd.concat(notebooks_train)\n",
        "      .set_index(\"id\", append=True)\n",
        "      .swaplevel()\n",
        "      .sort_index(level=\"id\", sort_remaining=False)\n",
        "  )\n",
        "\n",
        "# Get correct order of cells in notebooks\n",
        "df_orders = pd.read_csv(data_dir / \"train_orders.csv\", index_col=\"id\")\n",
        "df_orders = df_orders.squeeze().str.split(\" \").explode().to_frame()\n",
        "df_orders[\"rank\"] = pd.Series([np.arange(x) for x in df_orders.groupby(\"id\").count()[\"cell_order\"]]).explode().to_numpy()\n",
        "\n",
        "df = df_notebooks.reset_index().merge(df_orders.reset_index().rename(columns={\"cell_order\": \"cell_id\"}), how=\"inner\", on=[\"id\", \"cell_id\"])\n",
        "\n",
        "# Get ancestors for notebooks\n",
        "df_ancestors = pd.read_csv(data_dir / \"train_ancestors.csv\", index_col=\"id\")\n",
        "\n",
        "# Final combined dataframe\n",
        "df = df.merge(df_ancestors, on=\"id\").sort_values([\"id\", \"rank\"]).set_index([\"id\", \"cell_id\"])\n",
        "\n",
        "# Dataframe for count information - Used in EDA\n",
        "mkd = df[df[\"cell_type\"] == \"markdown\"].groupby(by=[\"id\"]).count().source\n",
        "code = df[df[\"cell_type\"] == \"code\"].groupby(by=[\"id\"]).count().source\n",
        "df_counts = pd.concat([mkd, code], axis=1)\n",
        "df_counts.columns = [\"markdown_count\", \"code_count\"]\n",
        "df_counts[\"tot\"] = df_counts.markdown_count + df_counts.code_count\n",
        "df_counts[\"ratio\"] = df_counts.code_count / df_counts.tot"
      ],
      "metadata": {
        "id": "gBehB5zBpMuF",
        "outputId": "4057ca9c-c483-462e-e393-a2909a349093",
        "colab": {
          "base_uri": "https://localhost:8080/"
        }
      },
      "execution_count": 14,
      "outputs": [
        {
          "output_type": "stream",
          "name": "stderr",
          "text": [
            "Train NBs: 100%|██████████| 20000/20000 [02:03<00:00, 161.88it/s]\n"
          ]
        }
      ]
    },
    {
      "cell_type": "markdown",
      "source": [
        "Training data consists out of 140 000 JSON files, each containing a notebook where markdown cells have been shuffeled. Additional files regarding correct markdown order, as well as, information of \"forked notebook\" has also been given. Following table is a combination of all given training files, including the correct order and ancestor_id/parent_id.\n",
        "\n",
        "* **`id` - Unique identification of notebook.** \n",
        "* **`cell_id` - Unique identification of cell within notebooks.** \n",
        "* **`cell_type` - Factor specifying cell type, either being a code cell or markdown cell.** \n",
        "* **`source` - String with content of cell.**\n",
        "* **`rank` - Order rank for given cell within notebook.**\n",
        "* **`ancestor_id` - Identifies sets of notebooks with common origin.**\n",
        "* **`parent_id` - Some version of the notebook id was forked from some version of the notebook `parent_id`. It may or may not be present (i.e. `parent_id` may be missing due to someone having forked a private notebook).** "
      ],
      "metadata": {
        "id": "BI8QnaQGISMi"
      }
    },
    {
      "cell_type": "code",
      "source": [
        "df.head()"
      ],
      "metadata": {
        "id": "VtW-FVxaIt05",
        "outputId": "57126148-4818-44f2-ce8b-6b4a5afc007d",
        "colab": {
          "base_uri": "https://localhost:8080/",
          "height": 368
        }
      },
      "execution_count": 15,
      "outputs": [
        {
          "output_type": "execute_result",
          "data": {
            "text/plain": [
              "                        cell_type                                                                                               source rank ancestor_id parent_id\n",
              "id             cell_id                                                                                                                                           \n",
              "00035108e64677 3496fbfe  markdown                                                                             # Import Basic Libraries    0    a41da3f9       NaN\n",
              "               2fa1f27b      code  # Basic Libraries\\nimport numpy as np\\nimport pandas as pd\\nimport seaborn as sb\\nimport matplot...    1    a41da3f9       NaN\n",
              "               719854c4  markdown                                                                           # Read test and train file    2    a41da3f9       NaN\n",
              "               f3c2de19      code  #import test and train file\\neverything = pd.read_json(\"../input/whats-cooking/train.json\")\\ntes...    3    a41da3f9       NaN\n",
              "               d75feb42  markdown  # Creating a list consisting of the top 100 ingredients and using them to predict the cuisine la...    4    a41da3f9       NaN"
            ],
            "text/html": [
              "\n",
              "  <div id=\"df-8766e3f3-605e-4ce1-9041-b2fa396508c2\">\n",
              "    <div class=\"colab-df-container\">\n",
              "      <div>\n",
              "<style scoped>\n",
              "    .dataframe tbody tr th:only-of-type {\n",
              "        vertical-align: middle;\n",
              "    }\n",
              "\n",
              "    .dataframe tbody tr th {\n",
              "        vertical-align: top;\n",
              "    }\n",
              "\n",
              "    .dataframe thead th {\n",
              "        text-align: right;\n",
              "    }\n",
              "</style>\n",
              "<table border=\"1\" class=\"dataframe\">\n",
              "  <thead>\n",
              "    <tr style=\"text-align: right;\">\n",
              "      <th></th>\n",
              "      <th></th>\n",
              "      <th>cell_type</th>\n",
              "      <th>source</th>\n",
              "      <th>rank</th>\n",
              "      <th>ancestor_id</th>\n",
              "      <th>parent_id</th>\n",
              "    </tr>\n",
              "    <tr>\n",
              "      <th>id</th>\n",
              "      <th>cell_id</th>\n",
              "      <th></th>\n",
              "      <th></th>\n",
              "      <th></th>\n",
              "      <th></th>\n",
              "      <th></th>\n",
              "    </tr>\n",
              "  </thead>\n",
              "  <tbody>\n",
              "    <tr>\n",
              "      <th rowspan=\"5\" valign=\"top\">00035108e64677</th>\n",
              "      <th>3496fbfe</th>\n",
              "      <td>markdown</td>\n",
              "      <td># Import Basic Libraries</td>\n",
              "      <td>0</td>\n",
              "      <td>a41da3f9</td>\n",
              "      <td>NaN</td>\n",
              "    </tr>\n",
              "    <tr>\n",
              "      <th>2fa1f27b</th>\n",
              "      <td>code</td>\n",
              "      <td># Basic Libraries\\nimport numpy as np\\nimport pandas as pd\\nimport seaborn as sb\\nimport matplot...</td>\n",
              "      <td>1</td>\n",
              "      <td>a41da3f9</td>\n",
              "      <td>NaN</td>\n",
              "    </tr>\n",
              "    <tr>\n",
              "      <th>719854c4</th>\n",
              "      <td>markdown</td>\n",
              "      <td># Read test and train file</td>\n",
              "      <td>2</td>\n",
              "      <td>a41da3f9</td>\n",
              "      <td>NaN</td>\n",
              "    </tr>\n",
              "    <tr>\n",
              "      <th>f3c2de19</th>\n",
              "      <td>code</td>\n",
              "      <td>#import test and train file\\neverything = pd.read_json(\"../input/whats-cooking/train.json\")\\ntes...</td>\n",
              "      <td>3</td>\n",
              "      <td>a41da3f9</td>\n",
              "      <td>NaN</td>\n",
              "    </tr>\n",
              "    <tr>\n",
              "      <th>d75feb42</th>\n",
              "      <td>markdown</td>\n",
              "      <td># Creating a list consisting of the top 100 ingredients and using them to predict the cuisine la...</td>\n",
              "      <td>4</td>\n",
              "      <td>a41da3f9</td>\n",
              "      <td>NaN</td>\n",
              "    </tr>\n",
              "  </tbody>\n",
              "</table>\n",
              "</div>\n",
              "      <button class=\"colab-df-convert\" onclick=\"convertToInteractive('df-8766e3f3-605e-4ce1-9041-b2fa396508c2')\"\n",
              "              title=\"Convert this dataframe to an interactive table.\"\n",
              "              style=\"display:none;\">\n",
              "        \n",
              "  <svg xmlns=\"http://www.w3.org/2000/svg\" height=\"24px\"viewBox=\"0 0 24 24\"\n",
              "       width=\"24px\">\n",
              "    <path d=\"M0 0h24v24H0V0z\" fill=\"none\"/>\n",
              "    <path d=\"M18.56 5.44l.94 2.06.94-2.06 2.06-.94-2.06-.94-.94-2.06-.94 2.06-2.06.94zm-11 1L8.5 8.5l.94-2.06 2.06-.94-2.06-.94L8.5 2.5l-.94 2.06-2.06.94zm10 10l.94 2.06.94-2.06 2.06-.94-2.06-.94-.94-2.06-.94 2.06-2.06.94z\"/><path d=\"M17.41 7.96l-1.37-1.37c-.4-.4-.92-.59-1.43-.59-.52 0-1.04.2-1.43.59L10.3 9.45l-7.72 7.72c-.78.78-.78 2.05 0 2.83L4 21.41c.39.39.9.59 1.41.59.51 0 1.02-.2 1.41-.59l7.78-7.78 2.81-2.81c.8-.78.8-2.07 0-2.86zM5.41 20L4 18.59l7.72-7.72 1.47 1.35L5.41 20z\"/>\n",
              "  </svg>\n",
              "      </button>\n",
              "      \n",
              "  <style>\n",
              "    .colab-df-container {\n",
              "      display:flex;\n",
              "      flex-wrap:wrap;\n",
              "      gap: 12px;\n",
              "    }\n",
              "\n",
              "    .colab-df-convert {\n",
              "      background-color: #E8F0FE;\n",
              "      border: none;\n",
              "      border-radius: 50%;\n",
              "      cursor: pointer;\n",
              "      display: none;\n",
              "      fill: #1967D2;\n",
              "      height: 32px;\n",
              "      padding: 0 0 0 0;\n",
              "      width: 32px;\n",
              "    }\n",
              "\n",
              "    .colab-df-convert:hover {\n",
              "      background-color: #E2EBFA;\n",
              "      box-shadow: 0px 1px 2px rgba(60, 64, 67, 0.3), 0px 1px 3px 1px rgba(60, 64, 67, 0.15);\n",
              "      fill: #174EA6;\n",
              "    }\n",
              "\n",
              "    [theme=dark] .colab-df-convert {\n",
              "      background-color: #3B4455;\n",
              "      fill: #D2E3FC;\n",
              "    }\n",
              "\n",
              "    [theme=dark] .colab-df-convert:hover {\n",
              "      background-color: #434B5C;\n",
              "      box-shadow: 0px 1px 3px 1px rgba(0, 0, 0, 0.15);\n",
              "      filter: drop-shadow(0px 1px 2px rgba(0, 0, 0, 0.3));\n",
              "      fill: #FFFFFF;\n",
              "    }\n",
              "  </style>\n",
              "\n",
              "      <script>\n",
              "        const buttonEl =\n",
              "          document.querySelector('#df-8766e3f3-605e-4ce1-9041-b2fa396508c2 button.colab-df-convert');\n",
              "        buttonEl.style.display =\n",
              "          google.colab.kernel.accessAllowed ? 'block' : 'none';\n",
              "\n",
              "        async function convertToInteractive(key) {\n",
              "          const element = document.querySelector('#df-8766e3f3-605e-4ce1-9041-b2fa396508c2');\n",
              "          const dataTable =\n",
              "            await google.colab.kernel.invokeFunction('convertToInteractive',\n",
              "                                                     [key], {});\n",
              "          if (!dataTable) return;\n",
              "\n",
              "          const docLinkHtml = 'Like what you see? Visit the ' +\n",
              "            '<a target=\"_blank\" href=https://colab.research.google.com/notebooks/data_table.ipynb>data table notebook</a>'\n",
              "            + ' to learn more about interactive tables.';\n",
              "          element.innerHTML = '';\n",
              "          dataTable['output_type'] = 'display_data';\n",
              "          await google.colab.output.renderOutput(dataTable, element);\n",
              "          const docLink = document.createElement('div');\n",
              "          docLink.innerHTML = docLinkHtml;\n",
              "          element.appendChild(docLink);\n",
              "        }\n",
              "      </script>\n",
              "    </div>\n",
              "  </div>\n",
              "  "
            ]
          },
          "metadata": {},
          "execution_count": 15
        }
      ]
    },
    {
      "cell_type": "markdown",
      "source": [
        "**We're in luck because the competition organizers have already cleaned the dataset. It has been stated that:** \n",
        "\n",
        "* **Notebooks contain at least one of each `cell_type`, meaning notebooks should have a length of 2 or more.** \n",
        "- **Any cells with empty `source` have already have been removed.**  \n",
        "- **All code is written in python.** \n",
        "\n",
        "**Before continuing with the analysis, we need to make a short check on our own. `cell_type` is a factor that specifies one of two cell types: markdown or code. Only these two types appear to be present in the data, which is good.**"
      ],
      "metadata": {
        "id": "8yOfRRf-IuQ_"
      }
    },
    {
      "cell_type": "code",
      "source": [
        "df[\"cell_type\"].unique()"
      ],
      "metadata": {
        "id": "tEBL5LzVI2O6",
        "outputId": "f6b82317-b733-460c-c9c2-b591d2cb5ba7",
        "colab": {
          "base_uri": "https://localhost:8080/"
        }
      },
      "execution_count": 16,
      "outputs": [
        {
          "output_type": "execute_result",
          "data": {
            "text/plain": [
              "array(['markdown', 'code'], dtype=object)"
            ]
          },
          "metadata": {},
          "execution_count": 16
        }
      ]
    },
    {
      "cell_type": "markdown",
      "source": [
        "**We should not have any missing values, excpet within `parent_id`. Since the data appears to be clean, it is time to start our analysis.**"
      ],
      "metadata": {
        "id": "dZ_TigVuI7pm"
      }
    },
    {
      "cell_type": "code",
      "source": [
        "df.isna().sum()"
      ],
      "metadata": {
        "id": "JzYwWpfjI-2e",
        "outputId": "b005dc1b-94ca-42ac-a14b-4b3102d7bb09",
        "colab": {
          "base_uri": "https://localhost:8080/"
        }
      },
      "execution_count": 17,
      "outputs": [
        {
          "output_type": "execute_result",
          "data": {
            "text/plain": [
              "cell_type           0\n",
              "source              0\n",
              "rank                0\n",
              "ancestor_id         0\n",
              "parent_id      798755\n",
              "dtype: int64"
            ]
          },
          "metadata": {},
          "execution_count": 17
        }
      ]
    },
    {
      "cell_type": "markdown",
      "source": [
        "##Data Analysis"
      ],
      "metadata": {
        "id": "dJ_enzlyJPRl"
      }
    },
    {
      "cell_type": "markdown",
      "source": [
        "**Analysis will be based on a subset of the training data (20 000 notebooks).**"
      ],
      "metadata": {
        "id": "Oz9r-RMhJjzL"
      }
    },
    {
      "cell_type": "markdown",
      "source": [
        "###Code vs. Markdown"
      ],
      "metadata": {
        "id": "pkkkVa6oJkew"
      }
    },
    {
      "cell_type": "markdown",
      "source": [
        "**We now possess enough information to begin our analysis. Due to the fact that our model aims to order markdown cells based on code cells, the relationship between the two is of primary importance. A great starting point is to display the proportion of cell types across all notebooks. As seen in the pie chart below, code cells appear to be far more common than markdown cells which give us plenty to work on.**"
      ],
      "metadata": {
        "id": "hYYlatDZJm_Y"
      }
    },
    {
      "cell_type": "code",
      "source": [
        ""
      ],
      "metadata": {
        "id": "ErhGkOeSJpib"
      },
      "execution_count": null,
      "outputs": []
    }
  ]
}