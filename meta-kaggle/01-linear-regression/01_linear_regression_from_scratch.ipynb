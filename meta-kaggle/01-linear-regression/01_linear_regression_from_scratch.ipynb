{
  "nbformat": 4,
  "nbformat_minor": 0,
  "metadata": {
    "colab": {
      "provenance": [],
      "toc_visible": true,
      "authorship_tag": "ABX9TyO9/kQh16gnfoAuKLIJ7zY0",
      "include_colab_link": true
    },
    "kernelspec": {
      "name": "python3",
      "display_name": "Python 3"
    },
    "language_info": {
      "name": "python"
    }
  },
  "cells": [
    {
      "cell_type": "markdown",
      "metadata": {
        "id": "view-in-github",
        "colab_type": "text"
      },
      "source": [
        "<a href=\"https://colab.research.google.com/github/rahiakela/kaggle-competition-projects/blob/master/meta-kaggle/01-linear-regression/01_linear_regression_from_scratch.ipynb\" target=\"_parent\"><img src=\"https://colab.research.google.com/assets/colab-badge.svg\" alt=\"Open In Colab\"/></a>"
      ]
    },
    {
      "cell_type": "markdown",
      "source": [
        "##Linear Regression from scratch"
      ],
      "metadata": {
        "id": "QQFu_qQyjJDu"
      }
    },
    {
      "cell_type": "code",
      "source": [
        "import numpy as np\n",
        "import torch"
      ],
      "metadata": {
        "id": "5r3EGk4ljJ36"
      },
      "execution_count": 1,
      "outputs": []
    },
    {
      "cell_type": "code",
      "source": [
        "# Create tensors\n",
        "x = torch.tensor(3.0)\n",
        "w = torch.tensor(4.0, requires_grad=True)\n",
        "b = torch.tensor(5.0, requires_grad=True)"
      ],
      "metadata": {
        "id": "IXUbtTEBjS5d"
      },
      "execution_count": 2,
      "outputs": []
    },
    {
      "cell_type": "markdown",
      "source": [
        "We can combine tensors with the usual arithmetic operations."
      ],
      "metadata": {
        "id": "_7PZ9M7KkkUf"
      }
    },
    {
      "cell_type": "code",
      "source": [
        "# Arithmetic operations\n",
        "y = w * x + b\n",
        "print(y)"
      ],
      "metadata": {
        "colab": {
          "base_uri": "https://localhost:8080/"
        },
        "id": "WD0mP_g3jkvE",
        "outputId": "e8cf0dc6-2984-4709-ef77-9bb797fe317b"
      },
      "execution_count": 3,
      "outputs": [
        {
          "output_type": "stream",
          "name": "stdout",
          "text": [
            "tensor(17., grad_fn=<AddBackward0>)\n"
          ]
        }
      ]
    },
    {
      "cell_type": "markdown",
      "source": [
        "What makes PyTorch special, is that we can automatically compute the derivative of `y` w.r.t. the tensors that have `requires_grad` set to `True` i.e. `w` and `b`."
      ],
      "metadata": {
        "id": "_9uTMvyOkg5F"
      }
    },
    {
      "cell_type": "code",
      "source": [
        "# Compute gradients\n",
        "y.backward()"
      ],
      "metadata": {
        "id": "Mw4l9ssAjwrL"
      },
      "execution_count": 4,
      "outputs": []
    },
    {
      "cell_type": "code",
      "source": [
        "# Display gradients\n",
        "print(f\"dy/dw: {w.grad}\")\n",
        "print(f\"dy/db: {b.grad}\")"
      ],
      "metadata": {
        "colab": {
          "base_uri": "https://localhost:8080/"
        },
        "id": "hf5vpIiSjyxI",
        "outputId": "817c9a54-e4e6-41d0-fb3e-8d24905a042c"
      },
      "execution_count": 5,
      "outputs": [
        {
          "output_type": "stream",
          "name": "stdout",
          "text": [
            "dy/dw: 3.0\n",
            "dy/db: 1.0\n"
          ]
        }
      ]
    },
    {
      "cell_type": "markdown",
      "source": [
        "##Problem Statement"
      ],
      "metadata": {
        "id": "901FJEDUkJ2h"
      }
    },
    {
      "cell_type": "markdown",
      "source": [
        "We'll create a model that predicts crop yeilds for apples and oranges (*target variables*) by looking at the average temperature, rainfall and humidity (*input variables or features*) in a region. Here's the training data:\n",
        "\n",
        "<img src=\"https://i.imgur.com/lBguUV9.png\" width=\"500\" />\n",
        "\n",
        "In a **linear regression** model, each target variable is estimated to be a weighted sum of the input variables, offset by some constant, known as a bias :\n",
        "\n",
        "```\n",
        "yeild_apple  = w11 * temp + w12 * rainfall + w13 * humidity + b1\n",
        "yeild_orange = w21 * temp + w22 * rainfall + w23 * humidity + b2\n",
        "```\n",
        "\n",
        "Visually, it means that the yield of apples is a linear or planar function of the temperature, rainfall & humidity.\n",
        "\n",
        "<img src=\"https://i.imgur.com/mtkR2lB.png\" width=\"540\" >\n",
        "\n",
        "\n",
        "**Our objective**: Find a suitable set of *weights* and *biases* using the training data, to make accurate predictions."
      ],
      "metadata": {
        "id": "q57-IkAekLaQ"
      }
    },
    {
      "cell_type": "markdown",
      "source": [
        "##Training Data"
      ],
      "metadata": {
        "id": "17vZRf8Qk5Fq"
      }
    },
    {
      "cell_type": "markdown",
      "source": [
        "The training data can be represented using 2 matrices (inputs and targets), each with one row per observation and one column per variable."
      ],
      "metadata": {
        "id": "v90SX3Mlk50w"
      }
    },
    {
      "cell_type": "code",
      "source": [
        "# Input (temp, rainfall, humidity)\n",
        "inputs = np.array([\n",
        "    [73, 67, 43],\n",
        "    [91, 88, 64],\n",
        "    [87, 134, 58],\n",
        "    [102, 43, 37],\n",
        "    [69, 96, 70]\n",
        "], dtype=\"float32\")"
      ],
      "metadata": {
        "id": "-NtruM1tkCdL"
      },
      "execution_count": 6,
      "outputs": []
    },
    {
      "cell_type": "code",
      "source": [
        "# Targets (apples, oranges)\n",
        "targets = np.array([\n",
        "    [56, 70],\n",
        "    [81, 101],\n",
        "    [119, 133],\n",
        "    [22, 37],\n",
        "    [103, 119]\n",
        "], dtype=\"float32\")"
      ],
      "metadata": {
        "id": "FgUnK13slYwU"
      },
      "execution_count": 7,
      "outputs": []
    },
    {
      "cell_type": "markdown",
      "source": [
        "Before we build a model, we need to convert inputs and targets to PyTorch tensors."
      ],
      "metadata": {
        "id": "S81KgKIslmHl"
      }
    },
    {
      "cell_type": "code",
      "source": [
        "# Convert inputs and targets to tensors\n",
        "inputs = torch.from_numpy(inputs)\n",
        "targets = torch.from_numpy(targets)\n",
        "print(inputs)\n",
        "print(targets)"
      ],
      "metadata": {
        "colab": {
          "base_uri": "https://localhost:8080/"
        },
        "id": "Y-33GYHallCT",
        "outputId": "4a585ade-0804-4475-d8a3-49fa2cd1dfd7"
      },
      "execution_count": 8,
      "outputs": [
        {
          "output_type": "stream",
          "name": "stdout",
          "text": [
            "tensor([[ 73.,  67.,  43.],\n",
            "        [ 91.,  88.,  64.],\n",
            "        [ 87., 134.,  58.],\n",
            "        [102.,  43.,  37.],\n",
            "        [ 69.,  96.,  70.]])\n",
            "tensor([[ 56.,  70.],\n",
            "        [ 81., 101.],\n",
            "        [119., 133.],\n",
            "        [ 22.,  37.],\n",
            "        [103., 119.]])\n"
          ]
        }
      ]
    },
    {
      "cell_type": "markdown",
      "source": [
        "##Linear Regression Model"
      ],
      "metadata": {
        "id": "VgE5zqSOl8K6"
      }
    },
    {
      "cell_type": "markdown",
      "source": [
        "The *weights* and *biases* can also be represented as matrices, initialized with random values. The first row of `w` and the first element of `b` are use to predict the first target variable i.e. yield for apples, and similarly the second for oranges."
      ],
      "metadata": {
        "id": "b5c7RVVcl9l1"
      }
    },
    {
      "cell_type": "code",
      "source": [
        "# Weights and biases\n",
        "w = torch.randn(2, 3, requires_grad=True)\n",
        "b = torch.randn(2, requires_grad=True)\n",
        "\n",
        "print(w)\n",
        "print(b)"
      ],
      "metadata": {
        "id": "VmWkh10UmDRu",
        "outputId": "80629f19-0710-42cf-e778-b7a47cbbfad8",
        "colab": {
          "base_uri": "https://localhost:8080/"
        }
      },
      "execution_count": 9,
      "outputs": [
        {
          "output_type": "stream",
          "name": "stdout",
          "text": [
            "tensor([[-0.8192,  0.5226,  0.1578],\n",
            "        [ 0.9957,  0.9839,  0.3789]], requires_grad=True)\n",
            "tensor([1.1408, 1.9003], requires_grad=True)\n"
          ]
        }
      ]
    },
    {
      "cell_type": "markdown",
      "source": [
        "The *model* is simply a function that performs a matrix multiplication of the input `x` and the weights `w` (transposed) and adds the bias `b` (replicated for each observation).\n",
        "\n",
        "$$\n",
        "\\hspace{2.5cm} X \\hspace{1.1cm} \\times \\hspace{1.2cm} W^T \\hspace{1.2cm}  + \\hspace{1cm} b \\hspace{2cm}\n",
        "$$\n",
        "\n",
        "$$\n",
        "\\left[ \\begin{array}{cc}\n",
        "73 & 67 & 43 \\\\\n",
        "91 & 88 & 64 \\\\\n",
        "\\vdots & \\vdots & \\vdots \\\\\n",
        "69 & 96 & 70\n",
        "\\end{array} \\right]\n",
        "%\n",
        "\\times\n",
        "%\n",
        "\\left[ \\begin{array}{cc}\n",
        "w_{11} & w_{21} \\\\\n",
        "w_{12} & w_{22} \\\\\n",
        "w_{13} & w_{23}\n",
        "\\end{array} \\right]\n",
        "%\n",
        "+\n",
        "%\n",
        "\\left[ \\begin{array}{cc}\n",
        "b_{1} & b_{2} \\\\\n",
        "b_{1} & b_{2} \\\\\n",
        "\\vdots & \\vdots \\\\\n",
        "b_{1} & b_{2} \\\\\n",
        "\\end{array} \\right]\n",
        "$$"
      ],
      "metadata": {
        "id": "EBFWS1Yt19xM"
      }
    },
    {
      "cell_type": "code",
      "source": [
        "# Define the model\n",
        "def model(x):\n",
        "  return x @ w.t() + b"
      ],
      "metadata": {
        "id": "BbyAWC4b1KGJ"
      },
      "execution_count": 10,
      "outputs": []
    },
    {
      "cell_type": "markdown",
      "source": [
        "The matrix obtained by passing the input data to the model is a set of predictions for the target variables."
      ],
      "metadata": {
        "id": "Be9SU0uG2T48"
      }
    },
    {
      "cell_type": "code",
      "source": [
        "# Generate predictions\n",
        "preds = model(inputs)\n",
        "print(preds)"
      ],
      "metadata": {
        "id": "lpk5I21a2UVT",
        "outputId": "567d1466-95ef-4d92-9655-dd9df5406270",
        "colab": {
          "base_uri": "https://localhost:8080/"
        }
      },
      "execution_count": 11,
      "outputs": [
        {
          "output_type": "stream",
          "name": "stdout",
          "text": [
            "tensor([[-16.8655, 156.7958],\n",
            "        [-17.3243, 203.3357],\n",
            "        [  9.0457, 242.3373],\n",
            "        [-54.1123, 159.7845],\n",
            "        [  5.8262, 191.5750]], grad_fn=<AddBackward0>)\n"
          ]
        }
      ]
    },
    {
      "cell_type": "code",
      "source": [
        "# Compare with targets\n",
        "print(targets)"
      ],
      "metadata": {
        "id": "5CSwni362dDb",
        "outputId": "cf9d3283-16fa-4995-8dad-15bab352c23b",
        "colab": {
          "base_uri": "https://localhost:8080/"
        }
      },
      "execution_count": 12,
      "outputs": [
        {
          "output_type": "stream",
          "name": "stdout",
          "text": [
            "tensor([[ 56.,  70.],\n",
            "        [ 81., 101.],\n",
            "        [119., 133.],\n",
            "        [ 22.,  37.],\n",
            "        [103., 119.]])\n"
          ]
        }
      ]
    },
    {
      "cell_type": "markdown",
      "source": [
        "Because we've started with random weights and biases, the model does not a very good job of predicting the target varaibles."
      ],
      "metadata": {
        "id": "eXeVjGV72xFb"
      }
    },
    {
      "cell_type": "markdown",
      "source": [
        "##Loss Function"
      ],
      "metadata": {
        "id": "BjDY2zEu2xjA"
      }
    },
    {
      "cell_type": "markdown",
      "source": [
        "We can compare the predictions with the actual targets, using the following method:\n",
        "* Calculate the difference between the two matrices (`preds` and `targets`).\n",
        "* Square all elements of the difference matrix to remove negative values.\n",
        "* Calculate the average of the elements in the resulting matrix.\n",
        "\n",
        "The result is a single number, known as the **mean squared error** (MSE)."
      ],
      "metadata": {
        "id": "dMF5zTAH21VC"
      }
    },
    {
      "cell_type": "code",
      "source": [
        "# MSE loss\n",
        "def mse(t1, t2):\n",
        "  diff = t1 - t2\n",
        "  return torch.sum(diff * diff) / diff.numel()"
      ],
      "metadata": {
        "id": "k2yHl6Qt28_s"
      },
      "execution_count": 13,
      "outputs": []
    },
    {
      "cell_type": "code",
      "source": [
        "# Compute loss\n",
        "loss = mse(preds, targets)\n",
        "print(loss)"
      ],
      "metadata": {
        "id": "sN16xe8w5KZ2",
        "outputId": "9b3c789a-9d8b-42b9-c240-22289c74b392",
        "colab": {
          "base_uri": "https://localhost:8080/"
        }
      },
      "execution_count": 14,
      "outputs": [
        {
          "output_type": "stream",
          "name": "stdout",
          "text": [
            "tensor(9260.6738, grad_fn=<DivBackward0>)\n"
          ]
        }
      ]
    },
    {
      "cell_type": "markdown",
      "source": [
        "The resulting number is called the **loss**, because it indicates how bad the model is at predicting the target variables. Lower the loss, better the model."
      ],
      "metadata": {
        "id": "FMTXY-o15aL0"
      }
    },
    {
      "cell_type": "markdown",
      "source": [
        "##Compute Gradients"
      ],
      "metadata": {
        "id": "k1p_6tX15bdi"
      }
    },
    {
      "cell_type": "markdown",
      "source": [
        "With PyTorch, we can automatically compute the gradient or derivative of the `loss` w.r.t. to the weights and biases, because they have `requires_grad` set to `True`."
      ],
      "metadata": {
        "id": "x3WwO20b5eCL"
      }
    },
    {
      "cell_type": "code",
      "source": [
        "# Compute gradients\n",
        "loss.backward()"
      ],
      "metadata": {
        "id": "s25HoyCq5gF2"
      },
      "execution_count": 15,
      "outputs": []
    },
    {
      "cell_type": "markdown",
      "source": [
        "The gradients are stored in the `.grad` property of the respective tensors."
      ],
      "metadata": {
        "id": "ok-F9Tvu5xRw"
      }
    },
    {
      "cell_type": "code",
      "source": [
        "# Gradients for weights\n",
        "print(w)\n",
        "print(w.grad)"
      ],
      "metadata": {
        "id": "-qS20vxN5xqj",
        "outputId": "4d01a50c-0c9b-4015-85af-ce7e324ba61b",
        "colab": {
          "base_uri": "https://localhost:8080/"
        }
      },
      "execution_count": 16,
      "outputs": [
        {
          "output_type": "stream",
          "name": "stdout",
          "text": [
            "tensor([[-0.8192,  0.5226,  0.1578],\n",
            "        [ 0.9957,  0.9839,  0.3789]], requires_grad=True)\n",
            "tensor([[-7660.2314, -8173.9819, -5084.3276],\n",
            "        [ 8538.5371,  8343.7988,  5249.3091]])\n"
          ]
        }
      ]
    },
    {
      "cell_type": "code",
      "source": [
        "# Gradients for bias\n",
        "print(b)\n",
        "print(b.grad)"
      ],
      "metadata": {
        "id": "Kj3kuyT-535w",
        "outputId": "d171dd42-ceb9-4394-e3b6-4a4ddcb195e2",
        "colab": {
          "base_uri": "https://localhost:8080/"
        }
      },
      "execution_count": 17,
      "outputs": [
        {
          "output_type": "stream",
          "name": "stdout",
          "text": [
            "tensor([1.1408, 1.9003], requires_grad=True)\n",
            "tensor([-90.8860,  98.7657])\n"
          ]
        }
      ]
    },
    {
      "cell_type": "markdown",
      "source": [
        "A key insight from calculus is that the gradient indicates the rate of change of the loss, or the slope of the loss function w.r.t. the weights and biases.\n",
        "\n",
        "* If a gradient element is **postive**,\n",
        "    * **increasing** the element's value slightly will **increase** the loss.\n",
        "    * **decreasing** the element's value slightly will **decrease** the loss.\n",
        "\n",
        "<img src=\"https://i.imgur.com/2H4INoV.png\" width=\"400\" />\n",
        "\n",
        "\n",
        "\n",
        "* If a gradient element is **negative**,\n",
        "    * **increasing** the element's value slightly will **decrease** the loss.\n",
        "    * **decreasing** the element's value slightly will **increase** the loss.\n",
        "    \n",
        "<img src=\"https://i.imgur.com/h7E2uAv.png\" width=\"400\" />    \n",
        "\n",
        "The increase or decrease is proportional to the value of the gradient.\n",
        "\n",
        "Finally, we'll reset the gradients to zero before moving forward, because PyTorch accumulates gradients."
      ],
      "metadata": {
        "id": "Jlp4D0DS6YFd"
      }
    },
    {
      "cell_type": "code",
      "source": [
        "w.grad.zero_()\n",
        "b.grad.zero_()\n",
        "print(w.grad)\n",
        "print(b.grad)"
      ],
      "metadata": {
        "id": "VbyjaidE6Ygt",
        "outputId": "99eaee3c-ab5c-4526-8c88-d20ce4374f0f",
        "colab": {
          "base_uri": "https://localhost:8080/"
        }
      },
      "execution_count": 18,
      "outputs": [
        {
          "output_type": "stream",
          "name": "stdout",
          "text": [
            "tensor([[0., 0., 0.],\n",
            "        [0., 0., 0.]])\n",
            "tensor([0., 0.])\n"
          ]
        }
      ]
    },
    {
      "cell_type": "markdown",
      "source": [
        "##Adjust Gradients"
      ],
      "metadata": {
        "id": "Z2iFDAVb7Kmq"
      }
    },
    {
      "cell_type": "markdown",
      "source": [
        "We'll reduce the loss and improve our model using the gradient descent algorithm, which has the following steps:\n",
        "\n",
        "1. Generate predictions\n",
        "2. Calculate the loss\n",
        "3. Compute gradients w.r.t the weights and biases\n",
        "4. Adjust the weights by subtracting a small quantity proportional to the gradient\n",
        "5. Reset the gradients to zero"
      ],
      "metadata": {
        "id": "XArjV53J7MP5"
      }
    },
    {
      "cell_type": "code",
      "source": [
        "# Generate predictions\n",
        "preds = model(inputs)\n",
        "print(preds)"
      ],
      "metadata": {
        "id": "bPo8xLeH7Pbc",
        "outputId": "7ed9fadc-b914-46bc-e68a-c578f91fc0ba",
        "colab": {
          "base_uri": "https://localhost:8080/"
        }
      },
      "execution_count": 19,
      "outputs": [
        {
          "output_type": "stream",
          "name": "stdout",
          "text": [
            "tensor([[-16.8655, 156.7958],\n",
            "        [-17.3243, 203.3357],\n",
            "        [  9.0457, 242.3373],\n",
            "        [-54.1123, 159.7845],\n",
            "        [  5.8262, 191.5750]], grad_fn=<AddBackward0>)\n"
          ]
        }
      ]
    },
    {
      "cell_type": "code",
      "source": [
        "# Calculate the loss\n",
        "loss = mse(preds, targets)\n",
        "print(loss)"
      ],
      "metadata": {
        "id": "mG90PslzSsxu",
        "outputId": "57e639dc-47bb-43f9-d499-54472531ab08",
        "colab": {
          "base_uri": "https://localhost:8080/"
        }
      },
      "execution_count": 20,
      "outputs": [
        {
          "output_type": "stream",
          "name": "stdout",
          "text": [
            "tensor(9260.6738, grad_fn=<DivBackward0>)\n"
          ]
        }
      ]
    },
    {
      "cell_type": "code",
      "source": [
        "# Compute gradients\n",
        "loss.backward()"
      ],
      "metadata": {
        "id": "NQQj_Qu5SzrU"
      },
      "execution_count": 21,
      "outputs": []
    },
    {
      "cell_type": "code",
      "source": [
        "# Adjust weights & reset gradients\n",
        "with torch.no_grad():\n",
        "  w -= w.grad * 1e-5\n",
        "  b -= b.grad * 1e-5\n",
        "  w.grad.zero_()\n",
        "  b.grad.zero_()"
      ],
      "metadata": {
        "id": "9zbuiZeaS3tU"
      },
      "execution_count": 22,
      "outputs": []
    },
    {
      "cell_type": "code",
      "source": [
        "print(w)"
      ],
      "metadata": {
        "id": "YUGx0CsSTKjv",
        "outputId": "50d08e21-1eab-43be-bd07-2d8ec6dc3379",
        "colab": {
          "base_uri": "https://localhost:8080/"
        }
      },
      "execution_count": 23,
      "outputs": [
        {
          "output_type": "stream",
          "name": "stdout",
          "text": [
            "tensor([[-0.7426,  0.6043,  0.2086],\n",
            "        [ 0.9103,  0.9004,  0.3264]], requires_grad=True)\n"
          ]
        }
      ]
    },
    {
      "cell_type": "markdown",
      "source": [
        "With the new weights and biases, the model should have a lower loss."
      ],
      "metadata": {
        "id": "NPYCMiq1TP0x"
      }
    },
    {
      "cell_type": "code",
      "source": [
        "# Calculate loss\n",
        "preds = model(inputs)\n",
        "loss = mse(preds, targets)\n",
        "print(loss)"
      ],
      "metadata": {
        "id": "5RFDh6LPTLdL",
        "outputId": "ecab9794-55ce-4a3b-dac1-6240cd6c056f",
        "colab": {
          "base_uri": "https://localhost:8080/"
        }
      },
      "execution_count": 24,
      "outputs": [
        {
          "output_type": "stream",
          "name": "stdout",
          "text": [
            "tensor(6333.8018, grad_fn=<DivBackward0>)\n"
          ]
        }
      ]
    },
    {
      "cell_type": "markdown",
      "source": [
        "## Train for multiple epochs"
      ],
      "metadata": {
        "id": "GRvlzYWUTiRW"
      }
    },
    {
      "cell_type": "markdown",
      "source": [
        "To reduce the loss further, we repeat the process of adjusting the weights and biases using the gradients multiple times. Each iteration is called an epoch."
      ],
      "metadata": {
        "id": "44T111T7Ti4L"
      }
    },
    {
      "cell_type": "code",
      "source": [
        "# Train for 100 epochs\n",
        "for i in range(100):\n",
        "  preds = model(inputs)\n",
        "  loss = mse(preds, targets)\n",
        "  loss.backward()\n",
        "  with torch.no_grad():\n",
        "    w -= w.grad * 1e-5\n",
        "    b -= b.grad * 1e-5\n",
        "    w.grad.zero_()\n",
        "    b.grad.zero_()"
      ],
      "metadata": {
        "id": "Hnd6THd9TZl2"
      },
      "execution_count": 25,
      "outputs": []
    },
    {
      "cell_type": "code",
      "source": [
        "# Calculate loss\n",
        "preds = model(inputs)\n",
        "loss = mse(preds, targets)\n",
        "print(loss)"
      ],
      "metadata": {
        "id": "cwBXA3g9UQL_",
        "outputId": "95924553-57e7-4eda-d06f-178e3e1385dd",
        "colab": {
          "base_uri": "https://localhost:8080/"
        }
      },
      "execution_count": 26,
      "outputs": [
        {
          "output_type": "stream",
          "name": "stdout",
          "text": [
            "tensor(101.7731, grad_fn=<DivBackward0>)\n"
          ]
        }
      ]
    },
    {
      "cell_type": "code",
      "source": [
        "# Print predictions\n",
        "preds"
      ],
      "metadata": {
        "id": "R5lqO5enUVOI",
        "outputId": "89a5394d-1b63-4478-d666-14dce09cdc5b",
        "colab": {
          "base_uri": "https://localhost:8080/"
        }
      },
      "execution_count": 27,
      "outputs": [
        {
          "output_type": "execute_result",
          "data": {
            "text/plain": [
              "tensor([[ 57.3239,  74.9878],\n",
              "        [ 80.2405,  98.2503],\n",
              "        [122.9137, 130.9461],\n",
              "        [ 20.6816,  61.8064],\n",
              "        [ 98.9587, 100.8342]], grad_fn=<AddBackward0>)"
            ]
          },
          "metadata": {},
          "execution_count": 27
        }
      ]
    },
    {
      "cell_type": "code",
      "source": [
        "# Print targets\n",
        "targets"
      ],
      "metadata": {
        "id": "zmLJb_DyUZ4M",
        "outputId": "72ff87b5-d8b4-416e-84a6-8d41438ad5de",
        "colab": {
          "base_uri": "https://localhost:8080/"
        }
      },
      "execution_count": 28,
      "outputs": [
        {
          "output_type": "execute_result",
          "data": {
            "text/plain": [
              "tensor([[ 56.,  70.],\n",
              "        [ 81., 101.],\n",
              "        [119., 133.],\n",
              "        [ 22.,  37.],\n",
              "        [103., 119.]])"
            ]
          },
          "metadata": {},
          "execution_count": 28
        }
      ]
    },
    {
      "cell_type": "markdown",
      "source": [
        "##PyTorch Linear Regression"
      ],
      "metadata": {
        "id": "FBd5_YwWUolB"
      }
    },
    {
      "cell_type": "markdown",
      "source": [
        "Let's re-implement the same model using some built-in functions and classes from PyTorch."
      ],
      "metadata": {
        "id": "7CXaCMR_UtA1"
      }
    },
    {
      "cell_type": "code",
      "source": [],
      "metadata": {
        "id": "gSNpRoJ4UeAx"
      },
      "execution_count": null,
      "outputs": []
    }
  ]
}