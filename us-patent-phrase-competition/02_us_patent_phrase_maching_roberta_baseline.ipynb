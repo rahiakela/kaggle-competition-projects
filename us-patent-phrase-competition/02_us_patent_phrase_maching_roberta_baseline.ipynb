{
  "nbformat": 4,
  "nbformat_minor": 0,
  "metadata": {
    "colab": {
      "name": "02-us-patent-phrase-maching-roberta-baseline.ipynb",
      "provenance": [],
      "toc_visible": true,
      "authorship_tag": "ABX9TyPgLjAmHLgzjeaSISDwwmnY",
      "include_colab_link": true
    },
    "kernelspec": {
      "name": "python3",
      "display_name": "Python 3"
    },
    "accelerator": "GPU",
    "widgets": {
      "application/vnd.jupyter.widget-state+json": {
        "ae1f1acb50704b43bb903979baee691b": {
          "model_module": "@jupyter-widgets/controls",
          "model_name": "HBoxModel",
          "model_module_version": "1.5.0",
          "state": {
            "_dom_classes": [],
            "_model_module": "@jupyter-widgets/controls",
            "_model_module_version": "1.5.0",
            "_model_name": "HBoxModel",
            "_view_count": null,
            "_view_module": "@jupyter-widgets/controls",
            "_view_module_version": "1.5.0",
            "_view_name": "HBoxView",
            "box_style": "",
            "children": [
              "IPY_MODEL_01570a97e1ab4679b2fc56c4760b60b8",
              "IPY_MODEL_b45b99a93c49431cae279677527ffb8c",
              "IPY_MODEL_75a00e3658114c39a7ece02b1bc5dfa6"
            ],
            "layout": "IPY_MODEL_b300e0727f4649c598948e1a5230082a"
          }
        },
        "01570a97e1ab4679b2fc56c4760b60b8": {
          "model_module": "@jupyter-widgets/controls",
          "model_name": "HTMLModel",
          "model_module_version": "1.5.0",
          "state": {
            "_dom_classes": [],
            "_model_module": "@jupyter-widgets/controls",
            "_model_module_version": "1.5.0",
            "_model_name": "HTMLModel",
            "_view_count": null,
            "_view_module": "@jupyter-widgets/controls",
            "_view_module_version": "1.5.0",
            "_view_name": "HTMLView",
            "description": "",
            "description_tooltip": null,
            "layout": "IPY_MODEL_5f0c6c9dd4354b83ba590f549019b7dc",
            "placeholder": "​",
            "style": "IPY_MODEL_feed5e517ef14f9dbba184491248dff1",
            "value": "Creating CSV from Arrow format: 100%"
          }
        },
        "b45b99a93c49431cae279677527ffb8c": {
          "model_module": "@jupyter-widgets/controls",
          "model_name": "FloatProgressModel",
          "model_module_version": "1.5.0",
          "state": {
            "_dom_classes": [],
            "_model_module": "@jupyter-widgets/controls",
            "_model_module_version": "1.5.0",
            "_model_name": "FloatProgressModel",
            "_view_count": null,
            "_view_module": "@jupyter-widgets/controls",
            "_view_module_version": "1.5.0",
            "_view_name": "ProgressView",
            "bar_style": "success",
            "description": "",
            "description_tooltip": null,
            "layout": "IPY_MODEL_7c579bb09654455ab7d64dbe38c313f4",
            "max": 1,
            "min": 0,
            "orientation": "horizontal",
            "style": "IPY_MODEL_b84510fc8d714b8891765a4a89ec6f99",
            "value": 1
          }
        },
        "75a00e3658114c39a7ece02b1bc5dfa6": {
          "model_module": "@jupyter-widgets/controls",
          "model_name": "HTMLModel",
          "model_module_version": "1.5.0",
          "state": {
            "_dom_classes": [],
            "_model_module": "@jupyter-widgets/controls",
            "_model_module_version": "1.5.0",
            "_model_name": "HTMLModel",
            "_view_count": null,
            "_view_module": "@jupyter-widgets/controls",
            "_view_module_version": "1.5.0",
            "_view_name": "HTMLView",
            "description": "",
            "description_tooltip": null,
            "layout": "IPY_MODEL_928bb9ec597b42c090e8eb8a171fdc49",
            "placeholder": "​",
            "style": "IPY_MODEL_922ea3bca90d4729bac929dc57827d38",
            "value": " 1/1 [00:00&lt;00:00, 11.56ba/s]"
          }
        },
        "b300e0727f4649c598948e1a5230082a": {
          "model_module": "@jupyter-widgets/base",
          "model_name": "LayoutModel",
          "model_module_version": "1.2.0",
          "state": {
            "_model_module": "@jupyter-widgets/base",
            "_model_module_version": "1.2.0",
            "_model_name": "LayoutModel",
            "_view_count": null,
            "_view_module": "@jupyter-widgets/base",
            "_view_module_version": "1.2.0",
            "_view_name": "LayoutView",
            "align_content": null,
            "align_items": null,
            "align_self": null,
            "border": null,
            "bottom": null,
            "display": null,
            "flex": null,
            "flex_flow": null,
            "grid_area": null,
            "grid_auto_columns": null,
            "grid_auto_flow": null,
            "grid_auto_rows": null,
            "grid_column": null,
            "grid_gap": null,
            "grid_row": null,
            "grid_template_areas": null,
            "grid_template_columns": null,
            "grid_template_rows": null,
            "height": null,
            "justify_content": null,
            "justify_items": null,
            "left": null,
            "margin": null,
            "max_height": null,
            "max_width": null,
            "min_height": null,
            "min_width": null,
            "object_fit": null,
            "object_position": null,
            "order": null,
            "overflow": null,
            "overflow_x": null,
            "overflow_y": null,
            "padding": null,
            "right": null,
            "top": null,
            "visibility": null,
            "width": null
          }
        },
        "5f0c6c9dd4354b83ba590f549019b7dc": {
          "model_module": "@jupyter-widgets/base",
          "model_name": "LayoutModel",
          "model_module_version": "1.2.0",
          "state": {
            "_model_module": "@jupyter-widgets/base",
            "_model_module_version": "1.2.0",
            "_model_name": "LayoutModel",
            "_view_count": null,
            "_view_module": "@jupyter-widgets/base",
            "_view_module_version": "1.2.0",
            "_view_name": "LayoutView",
            "align_content": null,
            "align_items": null,
            "align_self": null,
            "border": null,
            "bottom": null,
            "display": null,
            "flex": null,
            "flex_flow": null,
            "grid_area": null,
            "grid_auto_columns": null,
            "grid_auto_flow": null,
            "grid_auto_rows": null,
            "grid_column": null,
            "grid_gap": null,
            "grid_row": null,
            "grid_template_areas": null,
            "grid_template_columns": null,
            "grid_template_rows": null,
            "height": null,
            "justify_content": null,
            "justify_items": null,
            "left": null,
            "margin": null,
            "max_height": null,
            "max_width": null,
            "min_height": null,
            "min_width": null,
            "object_fit": null,
            "object_position": null,
            "order": null,
            "overflow": null,
            "overflow_x": null,
            "overflow_y": null,
            "padding": null,
            "right": null,
            "top": null,
            "visibility": null,
            "width": null
          }
        },
        "feed5e517ef14f9dbba184491248dff1": {
          "model_module": "@jupyter-widgets/controls",
          "model_name": "DescriptionStyleModel",
          "model_module_version": "1.5.0",
          "state": {
            "_model_module": "@jupyter-widgets/controls",
            "_model_module_version": "1.5.0",
            "_model_name": "DescriptionStyleModel",
            "_view_count": null,
            "_view_module": "@jupyter-widgets/base",
            "_view_module_version": "1.2.0",
            "_view_name": "StyleView",
            "description_width": ""
          }
        },
        "7c579bb09654455ab7d64dbe38c313f4": {
          "model_module": "@jupyter-widgets/base",
          "model_name": "LayoutModel",
          "model_module_version": "1.2.0",
          "state": {
            "_model_module": "@jupyter-widgets/base",
            "_model_module_version": "1.2.0",
            "_model_name": "LayoutModel",
            "_view_count": null,
            "_view_module": "@jupyter-widgets/base",
            "_view_module_version": "1.2.0",
            "_view_name": "LayoutView",
            "align_content": null,
            "align_items": null,
            "align_self": null,
            "border": null,
            "bottom": null,
            "display": null,
            "flex": null,
            "flex_flow": null,
            "grid_area": null,
            "grid_auto_columns": null,
            "grid_auto_flow": null,
            "grid_auto_rows": null,
            "grid_column": null,
            "grid_gap": null,
            "grid_row": null,
            "grid_template_areas": null,
            "grid_template_columns": null,
            "grid_template_rows": null,
            "height": null,
            "justify_content": null,
            "justify_items": null,
            "left": null,
            "margin": null,
            "max_height": null,
            "max_width": null,
            "min_height": null,
            "min_width": null,
            "object_fit": null,
            "object_position": null,
            "order": null,
            "overflow": null,
            "overflow_x": null,
            "overflow_y": null,
            "padding": null,
            "right": null,
            "top": null,
            "visibility": null,
            "width": null
          }
        },
        "b84510fc8d714b8891765a4a89ec6f99": {
          "model_module": "@jupyter-widgets/controls",
          "model_name": "ProgressStyleModel",
          "model_module_version": "1.5.0",
          "state": {
            "_model_module": "@jupyter-widgets/controls",
            "_model_module_version": "1.5.0",
            "_model_name": "ProgressStyleModel",
            "_view_count": null,
            "_view_module": "@jupyter-widgets/base",
            "_view_module_version": "1.2.0",
            "_view_name": "StyleView",
            "bar_color": null,
            "description_width": ""
          }
        },
        "928bb9ec597b42c090e8eb8a171fdc49": {
          "model_module": "@jupyter-widgets/base",
          "model_name": "LayoutModel",
          "model_module_version": "1.2.0",
          "state": {
            "_model_module": "@jupyter-widgets/base",
            "_model_module_version": "1.2.0",
            "_model_name": "LayoutModel",
            "_view_count": null,
            "_view_module": "@jupyter-widgets/base",
            "_view_module_version": "1.2.0",
            "_view_name": "LayoutView",
            "align_content": null,
            "align_items": null,
            "align_self": null,
            "border": null,
            "bottom": null,
            "display": null,
            "flex": null,
            "flex_flow": null,
            "grid_area": null,
            "grid_auto_columns": null,
            "grid_auto_flow": null,
            "grid_auto_rows": null,
            "grid_column": null,
            "grid_gap": null,
            "grid_row": null,
            "grid_template_areas": null,
            "grid_template_columns": null,
            "grid_template_rows": null,
            "height": null,
            "justify_content": null,
            "justify_items": null,
            "left": null,
            "margin": null,
            "max_height": null,
            "max_width": null,
            "min_height": null,
            "min_width": null,
            "object_fit": null,
            "object_position": null,
            "order": null,
            "overflow": null,
            "overflow_x": null,
            "overflow_y": null,
            "padding": null,
            "right": null,
            "top": null,
            "visibility": null,
            "width": null
          }
        },
        "922ea3bca90d4729bac929dc57827d38": {
          "model_module": "@jupyter-widgets/controls",
          "model_name": "DescriptionStyleModel",
          "model_module_version": "1.5.0",
          "state": {
            "_model_module": "@jupyter-widgets/controls",
            "_model_module_version": "1.5.0",
            "_model_name": "DescriptionStyleModel",
            "_view_count": null,
            "_view_module": "@jupyter-widgets/base",
            "_view_module_version": "1.2.0",
            "_view_name": "StyleView",
            "description_width": ""
          }
        }
      }
    }
  },
  "cells": [
    {
      "cell_type": "markdown",
      "metadata": {
        "id": "view-in-github",
        "colab_type": "text"
      },
      "source": [
        "<a href=\"https://colab.research.google.com/github/rahiakela/kaggle-competition-projects/blob/master/us-patent-phrase-competition/02_us_patent_phrase_maching_roberta_baseline.ipynb\" target=\"_parent\"><img src=\"https://colab.research.google.com/assets/colab-badge.svg\" alt=\"Open In Colab\"/></a>"
      ]
    },
    {
      "cell_type": "markdown",
      "metadata": {
        "id": "u8mZMCFWo5_K"
      },
      "source": [
        "##US Patent Phrase to Phrase maching - Roberta -baseline"
      ]
    },
    {
      "cell_type": "markdown",
      "metadata": {
        "id": "lgpmDaAaqFGq"
      },
      "source": [
        "In this dataset, you are presented pairs of phrases (an anchor and a target phrase) and asked to rate how similar they are on a scale from 0 (not at all similar) to 1 (identical in meaning). This challenge differs from a standard semantic similarity task in that similarity has been scored here within a patent's context, specifically its CPC classification (version 2021.05), which indicates the subject to which the patent relates. For example, while the phrases \"bird\" and \"Cape Cod\" may have low semantic similarity in normal language, the likeness of their meaning is much closer if considered in the context of \"house\".\n",
        "\n",
        "This is a code competition, in which you will submit code that will be run against an unseen test set. The unseen test set contains approximately 12k pairs of phrases. A small public test set has been provided for testing purposes, but is not used in scoring.\n",
        "\n",
        "Information on the meaning of CPC codes may be found on the USPTO website. The CPC version 2021.05 can be found on the CPC archive website.\n",
        "\n",
        "**Score meanings**\n",
        "\n",
        "The scores are in the 0-1 range with increments of 0.25 with the following meanings:\n",
        "\n",
        "* **1.0 - Very close match**. This is typically an exact match except possibly for differences in conjugation, quantity (e.g. singular vs. plural), and addition or removal of stopwords (e.g. “the”, “and”, “or”).\n",
        "* **0.75 - Close synonym**, e.g. “mobile phone” vs. “cellphone”. This also includes abbreviations, e.g. \"TCP\" -> \"transmission control protocol\".\n",
        "* **0.5 - Synonyms** which don’t have the same meaning (same function, same properties). This includes broad-narrow (hyponym) and narrow-broad (hypernym) matches.\n",
        "* **0.25 - Somewhat related**, e.g. the two phrases are in the same high level domain but are not synonyms. This also includes antonyms.\n",
        "* **0.0 - Unrelated**.\n",
        "\n",
        "**Columns**\n",
        "\n",
        "* **id** - a unique identifier for a pair of phrases\n",
        "* **anchor** - the first phrase\n",
        "* **target** - the second phrase\n",
        "* **context** - the CPC classification (version 2021.05), which indicates the subject within which the similarity is to be scored\n",
        "* **score** - the similarity. This is sourced from a combination of one or more manual expert ratings."
      ]
    },
    {
      "cell_type": "markdown",
      "metadata": {
        "id": "l49aSiS6qJjk"
      },
      "source": [
        "## Setup"
      ]
    },
    {
      "cell_type": "code",
      "source": [
        "%%shell\n",
        "\n",
        "pip -q install transformers\n",
        "pip -q install datasets"
      ],
      "metadata": {
        "id": "uEY3JhlK3fzI"
      },
      "execution_count": null,
      "outputs": []
    },
    {
      "cell_type": "code",
      "metadata": {
        "id": "HnTq4mih60yh"
      },
      "source": [
        "import pandas as pd\n",
        "import numpy as np\n",
        "import matplotlib.pyplot as plt\n",
        "import plotly.graph_objects as go\n",
        "from wordcloud import WordCloud,STOPWORDS\n",
        "from termcolor import colored\n",
        "\n",
        "import datasets,transformers\n",
        "\n",
        "from transformers import TrainingArguments, Trainer\n",
        "from transformers import AutoModelForSequenceClassification, AutoTokenizer"
      ],
      "execution_count": 6,
      "outputs": []
    },
    {
      "cell_type": "code",
      "source": [
        "import os\n",
        "\n",
        "os.environ[\"WANDB_DISABLED\"] = \"true\"\n",
        "\n",
        "colors = [\"#A2A21C\", \"#CBCB1A\", \"#E1E10B\", \"#F6F605\", \"#838305\"]"
      ],
      "metadata": {
        "id": "Yy52_nJY36qP"
      },
      "execution_count": 7,
      "outputs": []
    },
    {
      "cell_type": "markdown",
      "metadata": {
        "id": "yFVevHPKrNq3"
      },
      "source": [
        "Let's load dataset from Kaggle."
      ]
    },
    {
      "cell_type": "code",
      "metadata": {
        "id": "AZ-9t0vZrTch"
      },
      "source": [
        "from google.colab import files\n",
        "files.upload() # upload kaggle.json file"
      ],
      "execution_count": null,
      "outputs": []
    },
    {
      "cell_type": "code",
      "metadata": {
        "id": "bO7P_w-YrbCF",
        "outputId": "bd3a7999-fefb-4228-bf00-ac4d45f55993",
        "colab": {
          "base_uri": "https://localhost:8080/"
        }
      },
      "source": [
        "%%shell\n",
        "\n",
        "mkdir -p ~/.kaggle\n",
        "mv kaggle.json ~/.kaggle/\n",
        "ls ~/.kaggle\n",
        "chmod 600 /root/.kaggle/kaggle.json\n",
        "\n",
        "# download dataset from kaggle> URL: https://www.kaggle.com/competitions/us-patent-phrase-to-phrase-matching\n",
        "kaggle competitions download -c us-patent-phrase-to-phrase-matching\n",
        "unzip -qq us-patent-phrase-to-phrase-matching.zip"
      ],
      "execution_count": 34,
      "outputs": [
        {
          "output_type": "stream",
          "name": "stdout",
          "text": [
            "kaggle.json\n",
            "Downloading us-patent-phrase-to-phrase-matching.zip to /content\n",
            "  0% 0.00/682k [00:00<?, ?B/s]\n",
            "100% 682k/682k [00:00<00:00, 68.2MB/s]\n",
            "replace sample_submission.csv? [y]es, [n]o, [A]ll, [N]one, [r]ename: y\n",
            "replace test.csv? [y]es, [n]o, [A]ll, [N]one, [r]ename: y\n",
            "replace train.csv? [y]es, [n]o, [A]ll, [N]one, [r]ename: y\n"
          ]
        },
        {
          "output_type": "execute_result",
          "data": {
            "text/plain": [
              ""
            ]
          },
          "metadata": {},
          "execution_count": 34
        }
      ]
    },
    {
      "cell_type": "markdown",
      "source": [
        "Let's define config."
      ],
      "metadata": {
        "id": "IDmN2yng6FUa"
      }
    },
    {
      "cell_type": "code",
      "source": [
        "class config:\n",
        "  input_path = '/us-patent-phrase-to-phrase-matching/'\n",
        "  model_path = '/roberta-base'\n",
        "  model = 'roberta-base'\n",
        "  \n",
        "  learning_rate = 2e-5\n",
        "  weight_decay = 0.01\n",
        "  \n",
        "  epochs = 5\n",
        "  batch_size = 32"
      ],
      "metadata": {
        "id": "U2TV58Hg5G8o"
      },
      "execution_count": 10,
      "outputs": []
    },
    {
      "cell_type": "code",
      "source": [
        "sections = {\n",
        " 'A': 'Human Necessities',\n",
        " 'B': 'Operations and Transport',\n",
        " 'C': 'Chemistry and Metallurgy',\n",
        " 'D': 'Textiles',\n",
        " 'E': 'Fixed Constructions',\n",
        " 'F': 'Mechanical Engineering',\n",
        " 'G': 'Physics',\n",
        " 'H': 'Electricity',\n",
        " 'Y': 'Emerging Cross-Sectional Technologies'\n",
        "}"
      ],
      "metadata": {
        "id": "lpcAGXYW5Zbf"
      },
      "execution_count": 11,
      "outputs": []
    },
    {
      "cell_type": "markdown",
      "source": [
        "Let's load model."
      ],
      "metadata": {
        "id": "otrrGEdY6Kv6"
      }
    },
    {
      "cell_type": "code",
      "source": [
        "model = AutoModelForSequenceClassification.from_pretrained(config.model, num_labels=1)\n",
        "tokenizer = AutoTokenizer.from_pretrained(config.model)"
      ],
      "metadata": {
        "id": "b1_H87Eg6J27"
      },
      "execution_count": null,
      "outputs": []
    },
    {
      "cell_type": "markdown",
      "metadata": {
        "id": "WAGIwwJtsoGH"
      },
      "source": [
        "## Loading dataset "
      ]
    },
    {
      "cell_type": "code",
      "metadata": {
        "id": "Wduwoi7vsX1g"
      },
      "source": [
        "df_train = datasets.Dataset.from_csv('train.csv')"
      ],
      "execution_count": null,
      "outputs": []
    },
    {
      "cell_type": "code",
      "metadata": {
        "id": "gcvpecCMs9RW",
        "colab": {
          "base_uri": "https://localhost:8080/"
        },
        "outputId": "257b5b54-a3a6-464c-a1c7-1fb9372ca99a"
      },
      "source": [
        "df_train"
      ],
      "execution_count": 14,
      "outputs": [
        {
          "output_type": "execute_result",
          "data": {
            "text/plain": [
              "Dataset({\n",
              "    features: ['id', 'anchor', 'target', 'context', 'score'],\n",
              "    num_rows: 36473\n",
              "})"
            ]
          },
          "metadata": {},
          "execution_count": 14
        }
      ]
    },
    {
      "cell_type": "code",
      "source": [
        "df_test = datasets.Dataset.from_csv('test.csv')"
      ],
      "metadata": {
        "id": "guIRR0ZH1llA"
      },
      "execution_count": null,
      "outputs": []
    },
    {
      "cell_type": "code",
      "source": [
        "df_test"
      ],
      "metadata": {
        "id": "ZLNDBQ56467H",
        "outputId": "df9c32a5-df01-4476-c3be-738dd87901a8",
        "colab": {
          "base_uri": "https://localhost:8080/"
        }
      },
      "execution_count": 16,
      "outputs": [
        {
          "output_type": "execute_result",
          "data": {
            "text/plain": [
              "Dataset({\n",
              "    features: ['id', 'anchor', 'target', 'context'],\n",
              "    num_rows: 36\n",
              "})"
            ]
          },
          "metadata": {},
          "execution_count": 16
        }
      ]
    },
    {
      "cell_type": "markdown",
      "metadata": {
        "id": "HOU1FSvO5V58"
      },
      "source": [
        "## Preprocess Dataset"
      ]
    },
    {
      "cell_type": "code",
      "source": [
        "def preprocess(ds, eval=False):\n",
        "  context = ds[\"context\"][0]\n",
        "  prefix = sections[context]\n",
        "  anchor = ds[\"anchor\"]\n",
        "\n",
        "  return {\n",
        "      **tokenizer(prefix + anchor, ds[\"target\"], ), \"label\": ds[\"score\"] \n",
        "  }"
      ],
      "metadata": {
        "id": "yAE9ifUh5lBb"
      },
      "execution_count": 17,
      "outputs": []
    },
    {
      "cell_type": "code",
      "source": [
        "encoded_ds = df_train.map(preprocess, remove_columns=[\"id\", \"anchor\", \"target\", \"context\", \"score\"])"
      ],
      "metadata": {
        "id": "77C_vanm-_wq"
      },
      "execution_count": null,
      "outputs": []
    },
    {
      "cell_type": "code",
      "source": [
        "encoded_ds[100]"
      ],
      "metadata": {
        "id": "cFpZHU5d_b4-",
        "outputId": "727b5cfd-1bc6-4044-ac4f-16bd0e1e1864",
        "colab": {
          "base_uri": "https://localhost:8080/"
        }
      },
      "execution_count": 19,
      "outputs": [
        {
          "output_type": "execute_result",
          "data": {
            "text/plain": [
              "{'attention_mask': [1, 1, 1, 1, 1, 1, 1, 1, 1, 1, 1, 1],\n",
              " 'input_ids': [0, 48176, 37276, 2485, 873, 21113, 737, 2, 2, 873, 21113, 2],\n",
              " 'label': 0.5}"
            ]
          },
          "metadata": {},
          "execution_count": 19
        }
      ]
    },
    {
      "cell_type": "code",
      "source": [
        "encoded_ds = encoded_ds.train_test_split(test_size=0.2)"
      ],
      "metadata": {
        "id": "VcnFzh8V_gkn"
      },
      "execution_count": 20,
      "outputs": []
    },
    {
      "cell_type": "markdown",
      "source": [
        "##Training model"
      ],
      "metadata": {
        "id": "5BTwZheYAxli"
      }
    },
    {
      "cell_type": "code",
      "source": [
        "def compute_metrics(eval_pred):\n",
        "  predictions, labels = eval_pred\n",
        "  predictions = predictions.reshape(len(predictions))\n",
        "  return {\"pearson\": np.corrcoef(predictions, labels)[0][1]}"
      ],
      "metadata": {
        "id": "81jLW0dvA0Da"
      },
      "execution_count": 21,
      "outputs": []
    },
    {
      "cell_type": "code",
      "source": [
        "args = TrainingArguments(f\"uspppm\",\n",
        "                         evaluation_strategy=\"epoch\",\n",
        "                         save_strategy=\"epoch\",\n",
        "                         learning_rate=config.learning_rate,\n",
        "                         per_device_train_batch_size=config.batch_size,\n",
        "                         per_device_eval_batch_size=config.batch_size,\n",
        "                         num_train_epochs=config.epochs,\n",
        "                         weight_decay=config.weight_decay,\n",
        "                         load_best_model_at_end=True,\n",
        "                         metric_for_best_model=\"pearson\")"
      ],
      "metadata": {
        "id": "QtIPANb8_wuf",
        "outputId": "143e39da-80b9-4529-ff6c-abdbf742d6d2",
        "colab": {
          "base_uri": "https://localhost:8080/"
        }
      },
      "execution_count": 22,
      "outputs": [
        {
          "output_type": "stream",
          "name": "stderr",
          "text": [
            "Using the `WAND_DISABLED` environment variable is deprecated and will be removed in v5. Use the --report_to flag to control the integrations used for logging result (for instance --report_to none).\n"
          ]
        }
      ]
    },
    {
      "cell_type": "code",
      "source": [
        "trainer = Trainer(model, args,\n",
        "                  train_dataset=encoded_ds[\"train\"],\n",
        "                  eval_dataset=encoded_ds[\"test\"],\n",
        "                  tokenizer=tokenizer,\n",
        "                  compute_metrics=compute_metrics)"
      ],
      "metadata": {
        "id": "SzdplsMaBzwK"
      },
      "execution_count": 23,
      "outputs": []
    },
    {
      "cell_type": "markdown",
      "source": [
        "Let's evaluation model."
      ],
      "metadata": {
        "id": "EeSMQuzRCh2-"
      }
    },
    {
      "cell_type": "code",
      "source": [
        "trainer.evaluate()"
      ],
      "metadata": {
        "id": "i025GpQECjqB",
        "outputId": "fad43a83-74f4-4482-884b-337a58d47671",
        "colab": {
          "base_uri": "https://localhost:8080/",
          "height": 176
        }
      },
      "execution_count": 24,
      "outputs": [
        {
          "output_type": "stream",
          "name": "stderr",
          "text": [
            "***** Running Evaluation *****\n",
            "  Num examples = 7295\n",
            "  Batch size = 32\n"
          ]
        },
        {
          "output_type": "display_data",
          "data": {
            "text/plain": [
              "<IPython.core.display.HTML object>"
            ],
            "text/html": [
              "\n",
              "    <div>\n",
              "      \n",
              "      <progress value='228' max='228' style='width:300px; height:20px; vertical-align: middle;'></progress>\n",
              "      [228/228 00:19]\n",
              "    </div>\n",
              "    "
            ]
          },
          "metadata": {}
        },
        {
          "output_type": "execute_result",
          "data": {
            "text/plain": [
              "{'eval_loss': 0.1443788707256317,\n",
              " 'eval_pearson': -0.18269885965715912,\n",
              " 'eval_runtime': 19.344,\n",
              " 'eval_samples_per_second': 377.12,\n",
              " 'eval_steps_per_second': 11.787}"
            ]
          },
          "metadata": {},
          "execution_count": 24
        }
      ]
    },
    {
      "cell_type": "markdown",
      "source": [
        "Let's train model."
      ],
      "metadata": {
        "id": "IkqPB10JCwyq"
      }
    },
    {
      "cell_type": "code",
      "source": [
        "trainer.train()"
      ],
      "metadata": {
        "id": "pUoiTe3JCyVF",
        "outputId": "a1eea9da-07dd-4e87-e827-ea766dfcf7b7",
        "colab": {
          "base_uri": "https://localhost:8080/",
          "height": 1000
        }
      },
      "execution_count": 25,
      "outputs": [
        {
          "output_type": "stream",
          "name": "stderr",
          "text": [
            "/usr/local/lib/python3.7/dist-packages/transformers/optimization.py:309: FutureWarning: This implementation of AdamW is deprecated and will be removed in a future version. Use the PyTorch implementation torch.optim.AdamW instead, or set `no_deprecation_warning=True` to disable this warning\n",
            "  FutureWarning,\n",
            "***** Running training *****\n",
            "  Num examples = 29178\n",
            "  Num Epochs = 5\n",
            "  Instantaneous batch size per device = 32\n",
            "  Total train batch size (w. parallel, distributed & accumulation) = 32\n",
            "  Gradient Accumulation steps = 1\n",
            "  Total optimization steps = 4560\n"
          ]
        },
        {
          "output_type": "display_data",
          "data": {
            "text/plain": [
              "<IPython.core.display.HTML object>"
            ],
            "text/html": [
              "\n",
              "    <div>\n",
              "      \n",
              "      <progress value='4560' max='4560' style='width:300px; height:20px; vertical-align: middle;'></progress>\n",
              "      [4560/4560 25:36, Epoch 5/5]\n",
              "    </div>\n",
              "    <table border=\"1\" class=\"dataframe\">\n",
              "  <thead>\n",
              " <tr style=\"text-align: left;\">\n",
              "      <th>Epoch</th>\n",
              "      <th>Training Loss</th>\n",
              "      <th>Validation Loss</th>\n",
              "      <th>Pearson</th>\n",
              "    </tr>\n",
              "  </thead>\n",
              "  <tbody>\n",
              "    <tr>\n",
              "      <td>1</td>\n",
              "      <td>0.053500</td>\n",
              "      <td>0.032402</td>\n",
              "      <td>0.731429</td>\n",
              "    </tr>\n",
              "    <tr>\n",
              "      <td>2</td>\n",
              "      <td>0.033800</td>\n",
              "      <td>0.028503</td>\n",
              "      <td>0.779076</td>\n",
              "    </tr>\n",
              "    <tr>\n",
              "      <td>3</td>\n",
              "      <td>0.027100</td>\n",
              "      <td>0.026226</td>\n",
              "      <td>0.796185</td>\n",
              "    </tr>\n",
              "    <tr>\n",
              "      <td>4</td>\n",
              "      <td>0.022600</td>\n",
              "      <td>0.026281</td>\n",
              "      <td>0.805003</td>\n",
              "    </tr>\n",
              "    <tr>\n",
              "      <td>5</td>\n",
              "      <td>0.019600</td>\n",
              "      <td>0.025503</td>\n",
              "      <td>0.808865</td>\n",
              "    </tr>\n",
              "  </tbody>\n",
              "</table><p>"
            ]
          },
          "metadata": {}
        },
        {
          "output_type": "stream",
          "name": "stderr",
          "text": [
            "***** Running Evaluation *****\n",
            "  Num examples = 7295\n",
            "  Batch size = 32\n"
          ]
        },
        {
          "output_type": "display_data",
          "data": {
            "text/plain": [
              "<IPython.core.display.HTML object>"
            ],
            "text/html": [
              "\n",
              "    <div>\n",
              "      \n",
              "      <progress value='456' max='228' style='width:300px; height:20px; vertical-align: middle;'></progress>\n",
              "      [228/228 05:20]\n",
              "    </div>\n",
              "    "
            ]
          },
          "metadata": {}
        },
        {
          "output_type": "stream",
          "name": "stderr",
          "text": [
            "Saving model checkpoint to uspppm/checkpoint-912\n",
            "Configuration saved in uspppm/checkpoint-912/config.json\n",
            "Model weights saved in uspppm/checkpoint-912/pytorch_model.bin\n",
            "tokenizer config file saved in uspppm/checkpoint-912/tokenizer_config.json\n",
            "Special tokens file saved in uspppm/checkpoint-912/special_tokens_map.json\n",
            "***** Running Evaluation *****\n",
            "  Num examples = 7295\n",
            "  Batch size = 32\n",
            "Saving model checkpoint to uspppm/checkpoint-1824\n",
            "Configuration saved in uspppm/checkpoint-1824/config.json\n",
            "Model weights saved in uspppm/checkpoint-1824/pytorch_model.bin\n",
            "tokenizer config file saved in uspppm/checkpoint-1824/tokenizer_config.json\n",
            "Special tokens file saved in uspppm/checkpoint-1824/special_tokens_map.json\n",
            "***** Running Evaluation *****\n",
            "  Num examples = 7295\n",
            "  Batch size = 32\n",
            "Saving model checkpoint to uspppm/checkpoint-2736\n",
            "Configuration saved in uspppm/checkpoint-2736/config.json\n",
            "Model weights saved in uspppm/checkpoint-2736/pytorch_model.bin\n",
            "tokenizer config file saved in uspppm/checkpoint-2736/tokenizer_config.json\n",
            "Special tokens file saved in uspppm/checkpoint-2736/special_tokens_map.json\n",
            "***** Running Evaluation *****\n",
            "  Num examples = 7295\n",
            "  Batch size = 32\n",
            "Saving model checkpoint to uspppm/checkpoint-3648\n",
            "Configuration saved in uspppm/checkpoint-3648/config.json\n",
            "Model weights saved in uspppm/checkpoint-3648/pytorch_model.bin\n",
            "tokenizer config file saved in uspppm/checkpoint-3648/tokenizer_config.json\n",
            "Special tokens file saved in uspppm/checkpoint-3648/special_tokens_map.json\n",
            "***** Running Evaluation *****\n",
            "  Num examples = 7295\n",
            "  Batch size = 32\n",
            "Saving model checkpoint to uspppm/checkpoint-4560\n",
            "Configuration saved in uspppm/checkpoint-4560/config.json\n",
            "Model weights saved in uspppm/checkpoint-4560/pytorch_model.bin\n",
            "tokenizer config file saved in uspppm/checkpoint-4560/tokenizer_config.json\n",
            "Special tokens file saved in uspppm/checkpoint-4560/special_tokens_map.json\n",
            "\n",
            "\n",
            "Training completed. Do not forget to share your model on huggingface.co/models =)\n",
            "\n",
            "\n",
            "Loading best model from uspppm/checkpoint-4560 (score: 0.8088648364591885).\n"
          ]
        },
        {
          "output_type": "execute_result",
          "data": {
            "text/plain": [
              "TrainOutput(global_step=4560, training_loss=0.030024773588306027, metrics={'train_runtime': 1536.6571, 'train_samples_per_second': 94.94, 'train_steps_per_second': 2.967, 'total_flos': 1517723995694376.0, 'train_loss': 0.030024773588306027, 'epoch': 5.0})"
            ]
          },
          "metadata": {},
          "execution_count": 25
        }
      ]
    },
    {
      "cell_type": "markdown",
      "source": [
        "Let's make prediction."
      ],
      "metadata": {
        "id": "hiElVUCPDEMk"
      }
    },
    {
      "cell_type": "code",
      "source": [
        "def test_preprocess(ds, eval=False):\n",
        "  context = ds[\"context\"][0]\n",
        "  prefix = sections[context]\n",
        "  anchor = ds[\"anchor\"]\n",
        "\n",
        "  return {\n",
        "      **tokenizer(prefix + anchor, ds[\"target\"], ), \"label\": -1\n",
        "  }"
      ],
      "metadata": {
        "id": "RQKcZ6dzDLTI"
      },
      "execution_count": 26,
      "outputs": []
    },
    {
      "cell_type": "code",
      "source": [
        "test = datasets.Dataset.from_csv(\"test.csv\")\n",
        "encoded_test = test.map(test_preprocess, remove_columns=[\"id\", \"anchor\", \"target\", \"context\"])"
      ],
      "metadata": {
        "id": "GOqb9VBGD5iM"
      },
      "execution_count": null,
      "outputs": []
    },
    {
      "cell_type": "code",
      "source": [
        "outputs = trainer.predict(encoded_test)\n",
        "predictions = outputs.predictions.reshape(-1)"
      ],
      "metadata": {
        "id": "9kEryhm5Ef1t",
        "outputId": "0e51c22f-d9aa-45a7-b56c-80a9db44bec8",
        "colab": {
          "base_uri": "https://localhost:8080/",
          "height": 179
        }
      },
      "execution_count": 28,
      "outputs": [
        {
          "output_type": "stream",
          "name": "stderr",
          "text": [
            "***** Running Prediction *****\n",
            "  Num examples = 36\n",
            "  Batch size = 32\n"
          ]
        },
        {
          "output_type": "display_data",
          "data": {
            "text/plain": [
              "<IPython.core.display.HTML object>"
            ],
            "text/html": [
              "\n",
              "    <div>\n",
              "      \n",
              "      <progress value='2' max='2' style='width:300px; height:20px; vertical-align: middle;'></progress>\n",
              "      [2/2 00:00]\n",
              "    </div>\n",
              "    "
            ]
          },
          "metadata": {}
        },
        {
          "output_type": "stream",
          "name": "stderr",
          "text": [
            "/usr/local/lib/python3.7/dist-packages/numpy/lib/function_base.py:2691: RuntimeWarning: invalid value encountered in true_divide\n",
            "  c /= stddev[:, None]\n",
            "/usr/local/lib/python3.7/dist-packages/numpy/lib/function_base.py:2692: RuntimeWarning: invalid value encountered in true_divide\n",
            "  c /= stddev[None, :]\n"
          ]
        }
      ]
    },
    {
      "cell_type": "markdown",
      "source": [
        "##Submission"
      ],
      "metadata": {
        "id": "5B8mXqjkE1Dp"
      }
    },
    {
      "cell_type": "code",
      "source": [
        "submission = datasets.Dataset.from_dict({\"id\": test[\"id\"], \"score\": predictions})\n",
        "submission.to_csv('submission.csv', index = False)\n",
        "\n",
        "# submit the file to kaggle\n",
        "!kaggle competitions submit us-patent-phrase-to-phrase-matching -f \"submission.csv\" -m 'Yeah! I submit my file through the Google Colab!'"
      ],
      "metadata": {
        "id": "hKlK_GgxE15_",
        "outputId": "3d2699f2-7807-4ae1-ef3c-91d8e2ad820b",
        "colab": {
          "base_uri": "https://localhost:8080/",
          "height": 84,
          "referenced_widgets": [
            "ae1f1acb50704b43bb903979baee691b",
            "01570a97e1ab4679b2fc56c4760b60b8",
            "b45b99a93c49431cae279677527ffb8c",
            "75a00e3658114c39a7ece02b1bc5dfa6",
            "b300e0727f4649c598948e1a5230082a",
            "5f0c6c9dd4354b83ba590f549019b7dc",
            "feed5e517ef14f9dbba184491248dff1",
            "7c579bb09654455ab7d64dbe38c313f4",
            "b84510fc8d714b8891765a4a89ec6f99",
            "928bb9ec597b42c090e8eb8a171fdc49",
            "922ea3bca90d4729bac929dc57827d38"
          ]
        }
      },
      "execution_count": 37,
      "outputs": [
        {
          "output_type": "display_data",
          "data": {
            "text/plain": [
              "Creating CSV from Arrow format:   0%|          | 0/1 [00:00<?, ?ba/s]"
            ],
            "application/vnd.jupyter.widget-view+json": {
              "version_major": 2,
              "version_minor": 0,
              "model_id": "ae1f1acb50704b43bb903979baee691b"
            }
          },
          "metadata": {}
        },
        {
          "output_type": "stream",
          "name": "stdout",
          "text": [
            "100% 1.00k/1.00k [00:01<00:00, 633B/s]\n",
            "400 - Bad Request\n"
          ]
        }
      ]
    }
  ]
}